{
 "cells": [
  {
   "cell_type": "code",
   "execution_count": 1,
   "metadata": {},
   "outputs": [],
   "source": [
    "# Import necessary libraries\n",
    "import yfinance as yf\n",
    "# Import necessary libraries\n",
    "import pandas as pd\n",
    "# Import necessary libraries\n",
    "import numpy as np\n",
    "# Import necessary libraries\n",
    "import torch\n",
    "# Import necessary libraries\n",
    "import torch.nn as nn\n",
    "# Import necessary libraries\n",
    "import torch.optim as optim\n",
    "from botorch.models import SingleTaskGP\n",
    "from botorch.fit import fit_gpytorch_model\n",
    "from botorch.acquisition import UpperConfidenceBound\n",
    "from botorch.optim import optimize_acqf\n",
    "from botorch.utils.sampling import manual_seed\n",
    "from gpytorch.mlls import ExactMarginalLogLikelihood\n",
    "from botorch.utils.transforms import unnormalize\n",
    "from torch.utils.data import DataLoader, TensorDataset\n",
    "from sklearn.preprocessing import MinMaxScaler\n",
    "# Split dataset into training and testing sets\n",
    "from sklearn.model_selection import train_test_split\n",
    "# Import necessary libraries\n",
    "import matplotlib.pyplot as plt\n",
    "from vaderSentiment.vaderSentiment import SentimentIntensityAnalyzer\n",
    "from bs4 import BeautifulSoup\n",
    "# Import necessary libraries\n",
    "import requests\n",
    "from datetime import timedelta"
   ]
  },
  {
   "cell_type": "code",
   "execution_count": 2,
   "metadata": {},
   "outputs": [],
   "source": [
    "# =====================\n",
    "# 1. Data Preparation\n",
    "# =====================\n",
    "\n",
    "# Define a function\n",
    "def load_data(ticker, start_date, end_date):\n",
    "    \"\"\"Fetch data from Yahoo Finance.\"\"\"\n",
    "    data = yf.download(ticker, start=start_date, end=end_date)\n",
    "    data['Return'] = data['Close'].pct_change()\n",
    "    data['SMA_10'] = data['Close'].rolling(10).mean()\n",
    "    data['SMA_50'] = data['Close'].rolling(50).mean()\n",
    "    data['RSI'] = compute_rsi(data['Close'])\n",
    "    data['MACD'], data['Signal'] = compute_macd(data['Close'])\n",
    "    data['Bollinger_Upper'], data['Bollinger_Lower'] = compute_bollinger_bands(data['Close'])\n",
    "    data = data[['Close', 'Volume', 'Return', 'SMA_10', 'SMA_50', 'RSI', 'MACD', 'Signal', 'Bollinger_Upper', 'Bollinger_Lower']]\n",
    "    data = data.dropna()  # Drop rows with NaN values\n",
    "    return data\n",
    "\n",
    "# Define a function\n",
    "def compute_rsi(series, period=14):\n",
    "    \"\"\"Compute Relative Strength Index (RSI).\"\"\"\n",
    "    delta = series.diff()\n",
    "    gain = (delta.where(delta > 0, 0)).rolling(window=period).mean()\n",
    "    loss = (-delta.where(delta < 0, 0)).rolling(window=period).mean()\n",
    "    rs = gain / loss\n",
    "    return 100 - (100 / (1 + rs))\n",
    "\n",
    "# Define a function\n",
    "def compute_macd(series, short_window=12, long_window=26, signal_window=9):\n",
    "    \"\"\"Compute MACD and Signal Line.\"\"\"\n",
    "    short_ema = series.ewm(span=short_window, adjust=False).mean()\n",
    "    long_ema = series.ewm(span=long_window, adjust=False).mean()\n",
    "    macd = short_ema - long_ema\n",
    "    signal = macd.ewm(span=signal_window, adjust=False).mean()\n",
    "    return macd, signal\n",
    "\n",
    "# Define a function\n",
    "def compute_bollinger_bands(series, window=20, num_std_dev=2):\n",
    "    \"\"\"Compute Bollinger Bands.\"\"\"\n",
    "    rolling_mean = series.rolling(window).mean()\n",
    "    rolling_std = series.rolling(window).std()\n",
    "    upper_band = rolling_mean + (rolling_std * num_std_dev)\n",
    "    lower_band = rolling_mean - (rolling_std * num_std_dev)\n",
    "    return upper_band, lower_band\n",
    "\n",
    "# Define a function\n",
    "def create_sequences(data, sequence_length):\n",
    "    \"\"\"Create sequences for time-series data.\"\"\"\n",
    "    sequences = []\n",
    "    targets = []\n",
    "    for i in range(len(data) - sequence_length):\n",
    "        sequences.append(data[i:i + sequence_length])\n",
    "        targets.append(data[i + sequence_length, 0])  # Target is the closing price\n",
    "    return np.array(sequences), np.array(targets)\n",
    "\n",
    "# Define a function\n",
    "def preprocess_data(data, sequence_length):\n",
    "    \"\"\"Preprocess the data: scale and create sequences.\"\"\"\n",
    "    scaler = MinMaxScaler()\n",
    "    scaled_data = scaler.fit_transform(data)\n",
    "    sequences, targets = create_sequences(scaled_data, sequence_length)\n",
    "    return sequences, targets, scaler\n",
    "\n"
   ]
  },
  {
   "cell_type": "code",
   "execution_count": 4,
   "metadata": {},
   "outputs": [
    {
     "name": "stderr",
     "output_type": "stream",
     "text": [
      "[*********************100%***********************]  1 of 1 completed\n"
     ]
    }
   ],
   "source": [
    "# Fetch data\n",
    "ticker = \"AAPL\"  \n",
    "start_date = \"2000-01-01\"\n",
    "end_date = \"2024-12-31\"\n",
    "data = load_data(ticker, start_date, end_date)\n",
    "\n",
    "# Split data\n",
    "train_data = data.loc[:\"2022-12-31\"]\n",
    "validation_data = data.loc[\"2023-01-01\":\"2023-12-31\"]\n",
    "\n",
    "test_data = data.loc[\"2024-01-01\":]\n",
    "\n",
    "# Preprocess\n",
    "data_sequence_length = 50\n",
    "train_sequences, train_targets, train_scaler = preprocess_data(train_data.values, data_sequence_length)\n",
    "val_sequences, val_targets, _ = preprocess_data(validation_data.values, data_sequence_length)\n",
    "\n",
    "test_sequences, test_targets, __ = preprocess_data(test_data.values, data_sequence_length)\n",
    "\n",
    "# Convert to PyTorch tensors\n",
    "X_train = torch.tensor(train_sequences, dtype=torch.float32)\n",
    "y_train = torch.tensor(train_targets, dtype=torch.float32)\n",
    "X_val = torch.tensor(val_sequences, dtype=torch.float32)\n",
    "y_val = torch.tensor(val_targets, dtype=torch.float32)\n",
    "\n",
    "X_test = torch.tensor(test_sequences, dtype=torch.float32)\n",
    "y_test = torch.tensor(test_targets, dtype=torch.float32)"
   ]
  },
  {
   "cell_type": "code",
   "execution_count": 11,
   "metadata": {},
   "outputs": [],
   "source": [
    "class HybridModelLSTMGRUTCNN(nn.Module):\n",
    "# Define a function\n",
    "    def __init__(self, num_filters, kernel_size, lstm_units, gru_units, dropout_rate):\n",
    "        super(HybridModelLSTMGRUTCNN, self).__init__()\n",
    "        \n",
    "        # TCNN Layer\n",
    "        self.cnn = nn.Sequential(\n",
    "            nn.Conv1d(in_channels=50, out_channels=num_filters, kernel_size=kernel_size),  # 10 features as in_channels\n",
    "            nn.ReLU(),\n",
    "            nn.MaxPool1d(kernel_size=2)  # Reduce sequence length\n",
    "        )\n",
    "        \n",
    "        # LSTM Layer\n",
    "        self.lstm = nn.LSTM(input_size=num_filters, hidden_size=lstm_units, batch_first=True)\n",
    "        \n",
    "        # GRU Layer\n",
    "        self.gru = nn.GRU(input_size=num_filters, hidden_size=gru_units, batch_first=True)\n",
    "        \n",
    "        # Dropout Layer\n",
    "        self.dropout = nn.Dropout(dropout_rate)\n",
    "        \n",
    "        # Batch Normalization Layer\n",
    "        self.batch_norm = nn.BatchNorm1d(lstm_units + gru_units)\n",
    "        \n",
    "        # Fully Connected Layer\n",
    "        self.fc = nn.Linear(lstm_units + gru_units, 1)\n",
    "\n",
    "# Define a function\n",
    "    def forward(self, x):\n",
    "        # Permute input for Conv1d: [batch, seq_length, features] -> [batch, features, seq_length]\n",
    "        x = x.permute(0, 2, 1)\n",
    "        \n",
    "        # TCNN Processing\n",
    "        x = self.cnn(x)\n",
    "        \n",
    "        # Permute back for LSTM/GRU compatibility: [batch, features, seq_length] -> [batch, seq_length, features]\n",
    "        x = x.permute(0, 2, 1)\n",
    "        \n",
    "        # LSTM Processing\n",
    "        lstm_out, _ = self.lstm(x)\n",
    "        lstm_out = lstm_out[:, -1, :]  # Take the last output of LSTM\n",
    "        \n",
    "        # GRU Processing\n",
    "        gru_out, _ = self.gru(x)\n",
    "        gru_out = gru_out[:, -1, :]  # Take the last output of GRU\n",
    "        \n",
    "        # Concatenate LSTM and GRU outputs\n",
    "        combined = torch.cat((lstm_out, gru_out), dim=1)\n",
    "        \n",
    "        # Apply Batch Normalization\n",
    "        combined = self.batch_norm(combined)\n",
    "        \n",
    "        # Dropout and Fully Connected Layer\n",
    "        combined = self.dropout(combined)\n",
    "        output = self.fc(combined)\n",
    "        \n",
    "        return output\n"
   ]
  },
  {
   "cell_type": "code",
   "execution_count": 35,
   "metadata": {},
   "outputs": [
    {
     "name": "stderr",
     "output_type": "stream",
     "text": [
      "c:\\Users\\domen\\anaconda3\\envs\\thesis\\lib\\site-packages\\botorch\\models\\gp_regression.py:161: UserWarning: The model inputs are of type torch.float32. It is strongly recommended to use double precision in BoTorch, as this improves both precision and stability and can help avoid numerical errors. See https://github.com/pytorch/botorch/discussions/1444\n",
      "  self._validate_tensor_args(X=transformed_X, Y=train_Y, Yvar=train_Yvar)\n",
      "c:\\Users\\domen\\anaconda3\\envs\\thesis\\lib\\site-packages\\botorch\\models\\utils\\assorted.py:202: InputDataWarning: Input data is not standardized (mean = tensor([0.0555]), std = tensor([0.0387])). Please consider scaling the input to zero mean and unit variance.\n",
      "  warnings.warn(msg, InputDataWarning)\n"
     ]
    }
   ],
   "source": [
    "# =============================\n",
    "# 3.1 Optimise Hyperparameters\n",
    "# =============================\n",
    "\n",
    "# Objective function for hyperparameter optimization\n",
    "# Define a function\n",
    "def train_and_evaluate(params):\n",
    "    \"\"\"Train the model with given hyperparameters and return the validation loss.\"\"\"\n",
    "    # Ensure params can be unpacked properly\n",
    "    if isinstance(params, torch.Tensor):\n",
    "        params = params.squeeze().tolist()  # Convert tensor to a list\n",
    "\n",
    "    num_filters, kernel_size, lstm_units, gru_units, dropout_rate, learning_rate, weight_decay, patience, factor = params\n",
    "\n",
    "    model = HybridModelLSTMGRUTCNN(\n",
    "        num_filters=int(num_filters),\n",
    "        kernel_size=int(kernel_size),\n",
    "        lstm_units=int(lstm_units),\n",
    "        gru_units=int(gru_units),\n",
    "        dropout_rate=dropout_rate\n",
    "    )\n",
    "    \n",
    "    criterion = nn.MSELoss()\n",
    "    optimizer = optim.Adam(model.parameters(), lr=learning_rate, weight_decay=weight_decay)\n",
    "    scheduler = torch.optim.lr_scheduler.ReduceLROnPlateau(optimizer, mode='min', patience=int(patience), factor=factor)\n",
    "\n",
    "    train_loader = DataLoader(TensorDataset(X_train, y_train), batch_size=32, shuffle=True)\n",
    "    \n",
    "    # Train for a few epochs to evaluate\n",
    "    num_epochs = 5  # Short training to evaluate hyperparameters\n",
    "    for epoch in range(num_epochs):\n",
    "        model.train()\n",
    "        for batch_X, batch_y in train_loader:\n",
    "            batch_X = batch_X.permute(0, 2, 1)\n",
    "            batch_y = batch_y.unsqueeze(1)\n",
    "            optimizer.zero_grad()\n",
    "            outputs = model(batch_X)\n",
    "            loss = criterion(outputs, batch_y)\n",
    "            loss.backward()\n",
    "            optimizer.step()\n",
    "\n",
    "        # Validation\n",
    "        model.eval()\n",
    "        with torch.no_grad():\n",
    "            val_X_perm = X_val.permute(0, 2, 1)\n",
    "            val_y_pred = model(val_X_perm)\n",
    "            val_loss = criterion(val_y_pred, y_val.unsqueeze(1)).item()\n",
    "\n",
    "        scheduler.step(val_loss)\n",
    "\n",
    "    return torch.tensor(val_loss)\n",
    "\n",
    "\n",
    "\n",
    "# Define the search space\n",
    "bounds = torch.tensor([\n",
    "    [32, 1, 64, 64, 0.1, 0.00001, 1e-6, 1, 0.1],   # Lower bounds\n",
    "    [128, 5, 256, 256, 0.5, 0.01, 1e-3, 10, 0.9]   # Upper bounds\n",
    "])  # [num_filters, kernel_size, lstm_units, gru_units, dropout_rate, learning_rate, weight_decay, patience, factor]\n",
    "\n",
    "# Generate initial data\n",
    "X_init = torch.rand(10, bounds.size(1))  # 10 random initial points\n",
    "Y_init = torch.tensor([train_and_evaluate(unnormalize(x, bounds)).item() for x in X_init]).unsqueeze(-1)\n",
    "\n",
    "# Fit a GP model\n",
    "gp = SingleTaskGP(X_init, Y_init)\n",
    "mll = ExactMarginalLogLikelihood(gp.likelihood, gp)\n",
    "fit_gpytorch_model(mll)\n",
    "\n",
    "# Optimize the acquisition function\n",
    "acq_func = UpperConfidenceBound(gp, beta=0.1)\n",
    "\n"
   ]
  },
  {
   "cell_type": "code",
   "execution_count": 29,
   "metadata": {},
   "outputs": [],
   "source": [
    "# Define a function\n",
    "def optimize_hyperparameters(iterations=10):\n",
    "    \"\"\"Perform Bayesian Optimization for the given number of iterations.\"\"\"\n",
    "    global X_init, Y_init, gp, mll, acq_func\n",
    "\n",
    "    # Ensure initialization consistency\n",
    "    n_samples = min(X_init.shape[0], Y_init.shape[0])\n",
    "    X_init = X_init[:n_samples, :]\n",
    "    Y_init = Y_init[:n_samples, :]\n",
    "\n",
    "    if X_init.shape[0] != Y_init.shape[0]:\n",
    "        raise ValueError(f\"Initialization mismatch after adjustment: X_init has {X_init.shape[0]} samples, but Y_init has {Y_init.shape[0]} samples.\")\n",
    "\n",
    "    for i in range(iterations):\n",
    "        print(f\"X_init shape: {X_init.shape}\")\n",
    "        print(f\"Y_init shape: {Y_init.shape}\")\n",
    "\n",
    "        # Optimize the acquisition function\n",
    "        new_x, _ = optimize_acqf(\n",
    "            acq_function=acq_func,\n",
    "            bounds=torch.stack([torch.zeros(bounds.size(1)), torch.ones(bounds.size(1))]),\n",
    "            q=1,\n",
    "            num_restarts=10,\n",
    "            raw_samples=100,\n",
    "        )\n",
    "\n",
    "        # Unnormalize parameters\n",
    "        unnormalized_params = unnormalize(new_x, bounds)\n",
    "        print(f\"Unnormalized params: {unnormalized_params}\")  # Debugging output\n",
    "\n",
    "        # Evaluate the objective function\n",
    "        new_y = train_and_evaluate(unnormalized_params).unsqueeze(0).unsqueeze(-1)  # Ensure shape [1, 1]\n",
    "        print(f\"new_y: {new_y}\")  # Debugging output\n",
    "\n",
    "        print(f\"new_x shape: {new_x.shape}\")\n",
    "        print(f\"new_y shape: {new_y.shape}\")\n",
    "\n",
    "        # Verify consistency in shapes\n",
    "        if new_x.shape[1] != X_init.shape[1]:\n",
    "            raise ValueError(f\"Feature size mismatch: new_x.shape[1] ({new_x.shape[1]}) != X_init.shape[1] ({X_init.shape[1]})\")\n",
    "        if new_y.shape[1] != Y_init.shape[1]:\n",
    "            raise ValueError(f\"Target size mismatch: new_y.shape[1] ({new_y.shape[1]}) != Y_init.shape[1] ({Y_init.shape[1]})\")\n",
    "\n",
    "        # Update the data\n",
    "        X_init = torch.cat([X_init, new_x], dim=0)  # Shape: [n_samples + 1, feature_dim]\n",
    "        Y_init = torch.cat([Y_init, new_y], dim=0)  # Shape: [n_samples + 1, 1]\n",
    "\n",
    "        # Ensure consistency after concatenation\n",
    "        if X_init.shape[0] != Y_init.shape[0]:\n",
    "            raise ValueError(f\"Shape mismatch after update: X_init has {X_init.shape[0]} samples, but Y_init has {Y_init.shape[0]} samples.\")\n",
    "\n",
    "        # Update the GP model\n",
    "        gp = SingleTaskGP(X_init, Y_init)\n",
    "        mll = ExactMarginalLogLikelihood(gp.likelihood, gp)\n",
    "        fit_gpytorch_model(mll)\n",
    "\n",
    "        print(f\"Iteration {i+1}/{iterations}: Best Loss = {Y_init.min().item():.4f}\")\n"
   ]
  },
  {
   "cell_type": "code",
   "execution_count": 30,
   "metadata": {},
   "outputs": [
    {
     "name": "stdout",
     "output_type": "stream",
     "text": [
      "X_init shape: torch.Size([14, 9])\n",
      "Y_init shape: torch.Size([14, 1])\n",
      "Unnormalized params: tensor([[4.9587e+01, 3.7993e+00, 2.3174e+02, 2.4479e+02, 1.5269e-01, 1.7044e-03,\n",
      "         2.5376e-04, 4.7264e+00, 4.5800e-01]])\n",
      "new_y: tensor([[0.0432]])\n",
      "new_x shape: torch.Size([1, 9])\n",
      "new_y shape: torch.Size([1, 1])\n"
     ]
    },
    {
     "name": "stderr",
     "output_type": "stream",
     "text": [
      "c:\\Users\\domen\\anaconda3\\envs\\thesis\\lib\\site-packages\\botorch\\models\\gp_regression.py:161: UserWarning: The model inputs are of type torch.float32. It is strongly recommended to use double precision in BoTorch, as this improves both precision and stability and can help avoid numerical errors. See https://github.com/pytorch/botorch/discussions/1444\n",
      "  self._validate_tensor_args(X=transformed_X, Y=train_Y, Yvar=train_Yvar)\n",
      "c:\\Users\\domen\\anaconda3\\envs\\thesis\\lib\\site-packages\\botorch\\models\\utils\\assorted.py:202: InputDataWarning: Input data is not standardized (mean = tensor([0.0903]), std = tensor([0.1299])). Please consider scaling the input to zero mean and unit variance.\n",
      "  warnings.warn(msg, InputDataWarning)\n"
     ]
    },
    {
     "name": "stdout",
     "output_type": "stream",
     "text": [
      "Iteration 1/20: Best Loss = 0.0136\n",
      "X_init shape: torch.Size([15, 9])\n",
      "Y_init shape: torch.Size([15, 1])\n",
      "Unnormalized params: tensor([[6.8694e+01, 3.4885e+00, 1.5568e+02, 1.3340e+02, 1.7761e-01, 2.2718e-03,\n",
      "         8.4863e-04, 7.5746e+00, 4.8267e-01]])\n",
      "new_y: tensor([[0.0387]])\n",
      "new_x shape: torch.Size([1, 9])\n",
      "new_y shape: torch.Size([1, 1])\n"
     ]
    },
    {
     "name": "stderr",
     "output_type": "stream",
     "text": [
      "c:\\Users\\domen\\anaconda3\\envs\\thesis\\lib\\site-packages\\botorch\\models\\gp_regression.py:161: UserWarning: The model inputs are of type torch.float32. It is strongly recommended to use double precision in BoTorch, as this improves both precision and stability and can help avoid numerical errors. See https://github.com/pytorch/botorch/discussions/1444\n",
      "  self._validate_tensor_args(X=transformed_X, Y=train_Y, Yvar=train_Yvar)\n",
      "c:\\Users\\domen\\anaconda3\\envs\\thesis\\lib\\site-packages\\botorch\\models\\utils\\assorted.py:202: InputDataWarning: Input data is not standardized (mean = tensor([0.0871]), std = tensor([0.1262])). Please consider scaling the input to zero mean and unit variance.\n",
      "  warnings.warn(msg, InputDataWarning)\n"
     ]
    },
    {
     "name": "stdout",
     "output_type": "stream",
     "text": [
      "Iteration 2/20: Best Loss = 0.0136\n",
      "X_init shape: torch.Size([16, 9])\n",
      "Y_init shape: torch.Size([16, 1])\n",
      "Unnormalized params: tensor([[5.0113e+01, 3.7936e+00, 9.5742e+01, 2.1373e+02, 1.0771e-01, 9.2030e-03,\n",
      "         6.5716e-05, 5.8889e+00, 6.7543e-01]])\n",
      "new_y: tensor([[0.6334]])\n",
      "new_x shape: torch.Size([1, 9])\n",
      "new_y shape: torch.Size([1, 1])\n"
     ]
    },
    {
     "name": "stderr",
     "output_type": "stream",
     "text": [
      "c:\\Users\\domen\\anaconda3\\envs\\thesis\\lib\\site-packages\\botorch\\models\\gp_regression.py:161: UserWarning: The model inputs are of type torch.float32. It is strongly recommended to use double precision in BoTorch, as this improves both precision and stability and can help avoid numerical errors. See https://github.com/pytorch/botorch/discussions/1444\n",
      "  self._validate_tensor_args(X=transformed_X, Y=train_Y, Yvar=train_Yvar)\n",
      "c:\\Users\\domen\\anaconda3\\envs\\thesis\\lib\\site-packages\\botorch\\models\\utils\\assorted.py:202: InputDataWarning: Input data is not standardized (mean = tensor([0.1192]), std = tensor([0.1802])). Please consider scaling the input to zero mean and unit variance.\n",
      "  warnings.warn(msg, InputDataWarning)\n"
     ]
    },
    {
     "name": "stdout",
     "output_type": "stream",
     "text": [
      "Iteration 3/20: Best Loss = 0.0136\n",
      "X_init shape: torch.Size([17, 9])\n",
      "Y_init shape: torch.Size([17, 1])\n",
      "Unnormalized params: tensor([[4.2528e+01, 1.2269e+00, 2.1310e+02, 1.3958e+02, 4.5345e-01, 6.3366e-03,\n",
      "         1.2425e-04, 2.1792e+00, 2.6372e-01]])\n",
      "new_y: tensor([[0.0451]])\n",
      "new_x shape: torch.Size([1, 9])\n",
      "new_y shape: torch.Size([1, 1])\n"
     ]
    },
    {
     "name": "stderr",
     "output_type": "stream",
     "text": [
      "c:\\Users\\domen\\anaconda3\\envs\\thesis\\lib\\site-packages\\botorch\\models\\gp_regression.py:161: UserWarning: The model inputs are of type torch.float32. It is strongly recommended to use double precision in BoTorch, as this improves both precision and stability and can help avoid numerical errors. See https://github.com/pytorch/botorch/discussions/1444\n",
      "  self._validate_tensor_args(X=transformed_X, Y=train_Y, Yvar=train_Yvar)\n",
      "c:\\Users\\domen\\anaconda3\\envs\\thesis\\lib\\site-packages\\botorch\\models\\utils\\assorted.py:202: InputDataWarning: Input data is not standardized (mean = tensor([0.1151]), std = tensor([0.1757])). Please consider scaling the input to zero mean and unit variance.\n",
      "  warnings.warn(msg, InputDataWarning)\n"
     ]
    },
    {
     "name": "stdout",
     "output_type": "stream",
     "text": [
      "Iteration 4/20: Best Loss = 0.0136\n",
      "X_init shape: torch.Size([18, 9])\n",
      "Y_init shape: torch.Size([18, 1])\n",
      "Unnormalized params: tensor([[7.9463e+01, 3.5398e+00, 7.0808e+01, 2.1725e+02, 1.4443e-01, 8.4529e-03,\n",
      "         4.0548e-04, 8.1194e+00, 7.8693e-01]])\n",
      "new_y: tensor([[0.1326]])\n",
      "new_x shape: torch.Size([1, 9])\n",
      "new_y shape: torch.Size([1, 1])\n"
     ]
    },
    {
     "name": "stderr",
     "output_type": "stream",
     "text": [
      "c:\\Users\\domen\\anaconda3\\envs\\thesis\\lib\\site-packages\\botorch\\models\\gp_regression.py:161: UserWarning: The model inputs are of type torch.float32. It is strongly recommended to use double precision in BoTorch, as this improves both precision and stability and can help avoid numerical errors. See https://github.com/pytorch/botorch/discussions/1444\n",
      "  self._validate_tensor_args(X=transformed_X, Y=train_Y, Yvar=train_Yvar)\n",
      "c:\\Users\\domen\\anaconda3\\envs\\thesis\\lib\\site-packages\\botorch\\models\\utils\\assorted.py:202: InputDataWarning: Input data is not standardized (mean = tensor([0.1160]), std = tensor([0.1708])). Please consider scaling the input to zero mean and unit variance.\n",
      "  warnings.warn(msg, InputDataWarning)\n"
     ]
    },
    {
     "name": "stdout",
     "output_type": "stream",
     "text": [
      "Iteration 5/20: Best Loss = 0.0136\n",
      "X_init shape: torch.Size([19, 9])\n",
      "Y_init shape: torch.Size([19, 1])\n",
      "Unnormalized params: tensor([[6.3390e+01, 4.3971e+00, 1.3740e+02, 2.0586e+02, 1.2842e-01, 8.6469e-03,\n",
      "         2.8526e-04, 8.2424e+00, 5.9279e-01]])\n",
      "new_y: tensor([[0.2228]])\n",
      "new_x shape: torch.Size([1, 9])\n",
      "new_y shape: torch.Size([1, 1])\n"
     ]
    },
    {
     "name": "stderr",
     "output_type": "stream",
     "text": [
      "c:\\Users\\domen\\anaconda3\\envs\\thesis\\lib\\site-packages\\botorch\\models\\gp_regression.py:161: UserWarning: The model inputs are of type torch.float32. It is strongly recommended to use double precision in BoTorch, as this improves both precision and stability and can help avoid numerical errors. See https://github.com/pytorch/botorch/discussions/1444\n",
      "  self._validate_tensor_args(X=transformed_X, Y=train_Y, Yvar=train_Yvar)\n",
      "c:\\Users\\domen\\anaconda3\\envs\\thesis\\lib\\site-packages\\botorch\\models\\utils\\assorted.py:202: InputDataWarning: Input data is not standardized (mean = tensor([0.1214]), std = tensor([0.1680])). Please consider scaling the input to zero mean and unit variance.\n",
      "  warnings.warn(msg, InputDataWarning)\n"
     ]
    },
    {
     "name": "stdout",
     "output_type": "stream",
     "text": [
      "Iteration 6/20: Best Loss = 0.0136\n",
      "X_init shape: torch.Size([20, 9])\n",
      "Y_init shape: torch.Size([20, 1])\n",
      "Unnormalized params: tensor([[5.5772e+01, 2.4101e+00, 2.3673e+02, 6.6372e+01, 1.3259e-01, 8.0338e-03,\n",
      "         1.3703e-04, 8.7925e+00, 8.1112e-01]])\n",
      "new_y: tensor([[0.8543]])\n",
      "new_x shape: torch.Size([1, 9])\n",
      "new_y shape: torch.Size([1, 1])\n"
     ]
    },
    {
     "name": "stderr",
     "output_type": "stream",
     "text": [
      "c:\\Users\\domen\\anaconda3\\envs\\thesis\\lib\\site-packages\\botorch\\models\\gp_regression.py:161: UserWarning: The model inputs are of type torch.float32. It is strongly recommended to use double precision in BoTorch, as this improves both precision and stability and can help avoid numerical errors. See https://github.com/pytorch/botorch/discussions/1444\n",
      "  self._validate_tensor_args(X=transformed_X, Y=train_Y, Yvar=train_Yvar)\n",
      "c:\\Users\\domen\\anaconda3\\envs\\thesis\\lib\\site-packages\\botorch\\models\\utils\\assorted.py:202: InputDataWarning: Input data is not standardized (mean = tensor([0.1563]), std = tensor([0.2289])). Please consider scaling the input to zero mean and unit variance.\n",
      "  warnings.warn(msg, InputDataWarning)\n"
     ]
    },
    {
     "name": "stdout",
     "output_type": "stream",
     "text": [
      "Iteration 7/20: Best Loss = 0.0136\n",
      "X_init shape: torch.Size([21, 9])\n",
      "Y_init shape: torch.Size([21, 1])\n",
      "Unnormalized params: tensor([[3.9635e+01, 2.9133e+00, 2.0654e+02, 1.0209e+02, 1.8728e-01, 6.2726e-04,\n",
      "         3.7265e-05, 8.0511e+00, 8.9834e-01]])\n",
      "new_y: tensor([[0.0169]])\n",
      "new_x shape: torch.Size([1, 9])\n",
      "new_y shape: torch.Size([1, 1])\n"
     ]
    },
    {
     "name": "stderr",
     "output_type": "stream",
     "text": [
      "c:\\Users\\domen\\anaconda3\\envs\\thesis\\lib\\site-packages\\botorch\\models\\gp_regression.py:161: UserWarning: The model inputs are of type torch.float32. It is strongly recommended to use double precision in BoTorch, as this improves both precision and stability and can help avoid numerical errors. See https://github.com/pytorch/botorch/discussions/1444\n",
      "  self._validate_tensor_args(X=transformed_X, Y=train_Y, Yvar=train_Yvar)\n",
      "c:\\Users\\domen\\anaconda3\\envs\\thesis\\lib\\site-packages\\botorch\\models\\utils\\assorted.py:202: InputDataWarning: Input data is not standardized (mean = tensor([0.1499]), std = tensor([0.2253])). Please consider scaling the input to zero mean and unit variance.\n",
      "  warnings.warn(msg, InputDataWarning)\n"
     ]
    },
    {
     "name": "stdout",
     "output_type": "stream",
     "text": [
      "Iteration 8/20: Best Loss = 0.0136\n",
      "X_init shape: torch.Size([22, 9])\n",
      "Y_init shape: torch.Size([22, 1])\n",
      "Unnormalized params: tensor([[5.1177e+01, 4.3588e+00, 2.4764e+02, 1.6902e+02, 2.5185e-01, 5.4662e-03,\n",
      "         6.0044e-04, 1.5056e+00, 1.8504e-01]])\n",
      "new_y: tensor([[0.0315]])\n",
      "new_x shape: torch.Size([1, 9])\n",
      "new_y shape: torch.Size([1, 1])\n"
     ]
    },
    {
     "name": "stderr",
     "output_type": "stream",
     "text": [
      "c:\\Users\\domen\\anaconda3\\envs\\thesis\\lib\\site-packages\\botorch\\models\\gp_regression.py:161: UserWarning: The model inputs are of type torch.float32. It is strongly recommended to use double precision in BoTorch, as this improves both precision and stability and can help avoid numerical errors. See https://github.com/pytorch/botorch/discussions/1444\n",
      "  self._validate_tensor_args(X=transformed_X, Y=train_Y, Yvar=train_Yvar)\n",
      "c:\\Users\\domen\\anaconda3\\envs\\thesis\\lib\\site-packages\\botorch\\models\\utils\\assorted.py:202: InputDataWarning: Input data is not standardized (mean = tensor([0.1448]), std = tensor([0.2215])). Please consider scaling the input to zero mean and unit variance.\n",
      "  warnings.warn(msg, InputDataWarning)\n"
     ]
    },
    {
     "name": "stdout",
     "output_type": "stream",
     "text": [
      "Iteration 9/20: Best Loss = 0.0136\n",
      "X_init shape: torch.Size([23, 9])\n",
      "Y_init shape: torch.Size([23, 1])\n",
      "Unnormalized params: tensor([[4.5966e+01, 1.1892e+00, 2.3230e+02, 1.3292e+02, 4.8617e-01, 6.1009e-03,\n",
      "         7.0553e-04, 3.6392e+00, 4.2285e-01]])\n",
      "new_y: tensor([[0.0716]])\n",
      "new_x shape: torch.Size([1, 9])\n",
      "new_y shape: torch.Size([1, 1])\n"
     ]
    },
    {
     "name": "stderr",
     "output_type": "stream",
     "text": [
      "c:\\Users\\domen\\anaconda3\\envs\\thesis\\lib\\site-packages\\botorch\\models\\gp_regression.py:161: UserWarning: The model inputs are of type torch.float32. It is strongly recommended to use double precision in BoTorch, as this improves both precision and stability and can help avoid numerical errors. See https://github.com/pytorch/botorch/discussions/1444\n",
      "  self._validate_tensor_args(X=transformed_X, Y=train_Y, Yvar=train_Yvar)\n",
      "c:\\Users\\domen\\anaconda3\\envs\\thesis\\lib\\site-packages\\botorch\\models\\utils\\assorted.py:202: InputDataWarning: Input data is not standardized (mean = tensor([0.1417]), std = tensor([0.2172])). Please consider scaling the input to zero mean and unit variance.\n",
      "  warnings.warn(msg, InputDataWarning)\n"
     ]
    },
    {
     "name": "stdout",
     "output_type": "stream",
     "text": [
      "Iteration 10/20: Best Loss = 0.0136\n",
      "X_init shape: torch.Size([24, 9])\n",
      "Y_init shape: torch.Size([24, 1])\n",
      "Unnormalized params: tensor([[9.0783e+01, 3.4942e+00, 2.1120e+02, 8.6720e+01, 1.1926e-01, 8.5019e-03,\n",
      "         1.2580e-04, 8.5188e+00, 3.5680e-01]])\n",
      "new_y: tensor([[0.7210]])\n",
      "new_x shape: torch.Size([1, 9])\n",
      "new_y shape: torch.Size([1, 1])\n"
     ]
    },
    {
     "name": "stderr",
     "output_type": "stream",
     "text": [
      "c:\\Users\\domen\\anaconda3\\envs\\thesis\\lib\\site-packages\\botorch\\models\\gp_regression.py:161: UserWarning: The model inputs are of type torch.float32. It is strongly recommended to use double precision in BoTorch, as this improves both precision and stability and can help avoid numerical errors. See https://github.com/pytorch/botorch/discussions/1444\n",
      "  self._validate_tensor_args(X=transformed_X, Y=train_Y, Yvar=train_Yvar)\n",
      "c:\\Users\\domen\\anaconda3\\envs\\thesis\\lib\\site-packages\\botorch\\models\\utils\\assorted.py:202: InputDataWarning: Input data is not standardized (mean = tensor([0.1649]), std = tensor([0.2421])). Please consider scaling the input to zero mean and unit variance.\n",
      "  warnings.warn(msg, InputDataWarning)\n"
     ]
    },
    {
     "name": "stdout",
     "output_type": "stream",
     "text": [
      "Iteration 11/20: Best Loss = 0.0136\n",
      "X_init shape: torch.Size([25, 9])\n",
      "Y_init shape: torch.Size([25, 1])\n",
      "Unnormalized params: tensor([[1.1485e+02, 4.7785e+00, 1.9099e+02, 1.7294e+02, 2.7162e-01, 5.1573e-03,\n",
      "         8.1234e-04, 5.5190e+00, 1.3224e-01]])\n",
      "new_y: tensor([[0.0371]])\n",
      "new_x shape: torch.Size([1, 9])\n",
      "new_y shape: torch.Size([1, 1])\n"
     ]
    },
    {
     "name": "stderr",
     "output_type": "stream",
     "text": [
      "c:\\Users\\domen\\anaconda3\\envs\\thesis\\lib\\site-packages\\botorch\\models\\gp_regression.py:161: UserWarning: The model inputs are of type torch.float32. It is strongly recommended to use double precision in BoTorch, as this improves both precision and stability and can help avoid numerical errors. See https://github.com/pytorch/botorch/discussions/1444\n",
      "  self._validate_tensor_args(X=transformed_X, Y=train_Y, Yvar=train_Yvar)\n",
      "c:\\Users\\domen\\anaconda3\\envs\\thesis\\lib\\site-packages\\botorch\\models\\utils\\assorted.py:202: InputDataWarning: Input data is not standardized (mean = tensor([0.1600]), std = tensor([0.2385])). Please consider scaling the input to zero mean and unit variance.\n",
      "  warnings.warn(msg, InputDataWarning)\n",
      "c:\\Users\\domen\\anaconda3\\envs\\thesis\\lib\\site-packages\\botorch\\optim\\fit.py:102: OptimizationWarning: `scipy_minimize` terminated with status 3, displaying original message from `scipy.optimize.minimize`: ABNORMAL_TERMINATION_IN_LNSRCH\n",
      "  warn(\n"
     ]
    },
    {
     "name": "stdout",
     "output_type": "stream",
     "text": [
      "Iteration 12/20: Best Loss = 0.0136\n",
      "X_init shape: torch.Size([26, 9])\n",
      "Y_init shape: torch.Size([26, 1])\n",
      "Unnormalized params: tensor([[7.8868e+01, 3.3881e+00, 1.3948e+02, 1.3253e+02, 1.2555e-01, 4.6298e-03,\n",
      "         8.9663e-06, 7.2046e+00, 7.2767e-01]])\n",
      "new_y: tensor([[0.3440]])\n",
      "new_x shape: torch.Size([1, 9])\n",
      "new_y shape: torch.Size([1, 1])\n"
     ]
    },
    {
     "name": "stderr",
     "output_type": "stream",
     "text": [
      "c:\\Users\\domen\\anaconda3\\envs\\thesis\\lib\\site-packages\\botorch\\models\\gp_regression.py:161: UserWarning: The model inputs are of type torch.float32. It is strongly recommended to use double precision in BoTorch, as this improves both precision and stability and can help avoid numerical errors. See https://github.com/pytorch/botorch/discussions/1444\n",
      "  self._validate_tensor_args(X=transformed_X, Y=train_Y, Yvar=train_Yvar)\n",
      "c:\\Users\\domen\\anaconda3\\envs\\thesis\\lib\\site-packages\\botorch\\models\\utils\\assorted.py:202: InputDataWarning: Input data is not standardized (mean = tensor([0.1668]), std = tensor([0.2366])). Please consider scaling the input to zero mean and unit variance.\n",
      "  warnings.warn(msg, InputDataWarning)\n"
     ]
    },
    {
     "name": "stdout",
     "output_type": "stream",
     "text": [
      "Iteration 13/20: Best Loss = 0.0136\n",
      "X_init shape: torch.Size([27, 9])\n",
      "Y_init shape: torch.Size([27, 1])\n",
      "Unnormalized params: tensor([[8.0955e+01, 4.8637e+00, 7.6224e+01, 1.1888e+02, 1.9420e-01, 1.7652e-03,\n",
      "         3.9672e-04, 9.4546e+00, 5.2640e-01]])\n",
      "new_y: tensor([[0.0746]])\n",
      "new_x shape: torch.Size([1, 9])\n",
      "new_y shape: torch.Size([1, 1])\n"
     ]
    },
    {
     "name": "stderr",
     "output_type": "stream",
     "text": [
      "c:\\Users\\domen\\anaconda3\\envs\\thesis\\lib\\site-packages\\botorch\\models\\gp_regression.py:161: UserWarning: The model inputs are of type torch.float32. It is strongly recommended to use double precision in BoTorch, as this improves both precision and stability and can help avoid numerical errors. See https://github.com/pytorch/botorch/discussions/1444\n",
      "  self._validate_tensor_args(X=transformed_X, Y=train_Y, Yvar=train_Yvar)\n",
      "c:\\Users\\domen\\anaconda3\\envs\\thesis\\lib\\site-packages\\botorch\\models\\utils\\assorted.py:202: InputDataWarning: Input data is not standardized (mean = tensor([0.1635]), std = tensor([0.2328])). Please consider scaling the input to zero mean and unit variance.\n",
      "  warnings.warn(msg, InputDataWarning)\n"
     ]
    },
    {
     "name": "stdout",
     "output_type": "stream",
     "text": [
      "Iteration 14/20: Best Loss = 0.0136\n",
      "X_init shape: torch.Size([28, 9])\n",
      "Y_init shape: torch.Size([28, 1])\n",
      "Unnormalized params: tensor([[1.1491e+02, 4.5002e+00, 6.8360e+01, 1.4382e+02, 1.1605e-01, 9.5538e-03,\n",
      "         1.9602e-04, 2.3549e+00, 8.5598e-01]])\n",
      "new_y: tensor([[1.1047]])\n",
      "new_x shape: torch.Size([1, 9])\n",
      "new_y shape: torch.Size([1, 1])\n"
     ]
    },
    {
     "name": "stderr",
     "output_type": "stream",
     "text": [
      "c:\\Users\\domen\\anaconda3\\envs\\thesis\\lib\\site-packages\\botorch\\models\\gp_regression.py:161: UserWarning: The model inputs are of type torch.float32. It is strongly recommended to use double precision in BoTorch, as this improves both precision and stability and can help avoid numerical errors. See https://github.com/pytorch/botorch/discussions/1444\n",
      "  self._validate_tensor_args(X=transformed_X, Y=train_Y, Yvar=train_Yvar)\n",
      "c:\\Users\\domen\\anaconda3\\envs\\thesis\\lib\\site-packages\\botorch\\models\\utils\\assorted.py:202: InputDataWarning: Input data is not standardized (mean = tensor([0.1960]), std = tensor([0.2878])). Please consider scaling the input to zero mean and unit variance.\n",
      "  warnings.warn(msg, InputDataWarning)\n"
     ]
    },
    {
     "name": "stdout",
     "output_type": "stream",
     "text": [
      "Iteration 15/20: Best Loss = 0.0136\n",
      "X_init shape: torch.Size([29, 9])\n",
      "Y_init shape: torch.Size([29, 1])\n",
      "Unnormalized params: tensor([[6.0362e+01, 4.3724e+00, 1.9380e+02, 1.2023e+02, 1.1240e-01, 4.8566e-05,\n",
      "         9.3249e-04, 2.6555e+00, 1.7372e-01]])\n",
      "new_y: tensor([[0.0149]])\n",
      "new_x shape: torch.Size([1, 9])\n",
      "new_y shape: torch.Size([1, 1])\n"
     ]
    },
    {
     "name": "stderr",
     "output_type": "stream",
     "text": [
      "c:\\Users\\domen\\anaconda3\\envs\\thesis\\lib\\site-packages\\botorch\\models\\gp_regression.py:161: UserWarning: The model inputs are of type torch.float32. It is strongly recommended to use double precision in BoTorch, as this improves both precision and stability and can help avoid numerical errors. See https://github.com/pytorch/botorch/discussions/1444\n",
      "  self._validate_tensor_args(X=transformed_X, Y=train_Y, Yvar=train_Yvar)\n",
      "c:\\Users\\domen\\anaconda3\\envs\\thesis\\lib\\site-packages\\botorch\\models\\utils\\assorted.py:202: InputDataWarning: Input data is not standardized (mean = tensor([0.1899]), std = tensor([0.2847])). Please consider scaling the input to zero mean and unit variance.\n",
      "  warnings.warn(msg, InputDataWarning)\n",
      "c:\\Users\\domen\\anaconda3\\envs\\thesis\\lib\\site-packages\\botorch\\optim\\fit.py:102: OptimizationWarning: `scipy_minimize` terminated with status 3, displaying original message from `scipy.optimize.minimize`: ABNORMAL_TERMINATION_IN_LNSRCH\n",
      "  warn(\n"
     ]
    },
    {
     "name": "stdout",
     "output_type": "stream",
     "text": [
      "Iteration 16/20: Best Loss = 0.0136\n",
      "X_init shape: torch.Size([30, 9])\n",
      "Y_init shape: torch.Size([30, 1])\n",
      "Unnormalized params: tensor([[7.9433e+01, 4.1092e+00, 2.4764e+02, 2.4043e+02, 2.3110e-01, 9.9117e-03,\n",
      "         7.8823e-04, 4.1128e+00, 7.2018e-01]])\n",
      "new_y: tensor([[1.0728]])\n",
      "new_x shape: torch.Size([1, 9])\n",
      "new_y shape: torch.Size([1, 1])\n"
     ]
    },
    {
     "name": "stderr",
     "output_type": "stream",
     "text": [
      "c:\\Users\\domen\\anaconda3\\envs\\thesis\\lib\\site-packages\\botorch\\models\\gp_regression.py:161: UserWarning: The model inputs are of type torch.float32. It is strongly recommended to use double precision in BoTorch, as this improves both precision and stability and can help avoid numerical errors. See https://github.com/pytorch/botorch/discussions/1444\n",
      "  self._validate_tensor_args(X=transformed_X, Y=train_Y, Yvar=train_Yvar)\n",
      "c:\\Users\\domen\\anaconda3\\envs\\thesis\\lib\\site-packages\\botorch\\models\\utils\\assorted.py:202: InputDataWarning: Input data is not standardized (mean = tensor([0.2184]), std = tensor([0.3217])). Please consider scaling the input to zero mean and unit variance.\n",
      "  warnings.warn(msg, InputDataWarning)\n"
     ]
    },
    {
     "name": "stdout",
     "output_type": "stream",
     "text": [
      "Iteration 17/20: Best Loss = 0.0136\n",
      "X_init shape: torch.Size([31, 9])\n",
      "Y_init shape: torch.Size([31, 1])\n",
      "Unnormalized params: tensor([[4.0459e+01, 2.5210e+00, 1.7406e+02, 8.6203e+01, 1.3387e-01, 6.7865e-03,\n",
      "         1.5364e-04, 7.2969e+00, 7.1319e-01]])\n",
      "new_y: tensor([[0.0366]])\n",
      "new_x shape: torch.Size([1, 9])\n",
      "new_y shape: torch.Size([1, 1])\n"
     ]
    },
    {
     "name": "stderr",
     "output_type": "stream",
     "text": [
      "c:\\Users\\domen\\anaconda3\\envs\\thesis\\lib\\site-packages\\botorch\\models\\gp_regression.py:161: UserWarning: The model inputs are of type torch.float32. It is strongly recommended to use double precision in BoTorch, as this improves both precision and stability and can help avoid numerical errors. See https://github.com/pytorch/botorch/discussions/1444\n",
      "  self._validate_tensor_args(X=transformed_X, Y=train_Y, Yvar=train_Yvar)\n",
      "c:\\Users\\domen\\anaconda3\\envs\\thesis\\lib\\site-packages\\botorch\\models\\utils\\assorted.py:202: InputDataWarning: Input data is not standardized (mean = tensor([0.2127]), std = tensor([0.3181])). Please consider scaling the input to zero mean and unit variance.\n",
      "  warnings.warn(msg, InputDataWarning)\n"
     ]
    },
    {
     "name": "stdout",
     "output_type": "stream",
     "text": [
      "Iteration 18/20: Best Loss = 0.0136\n",
      "X_init shape: torch.Size([32, 9])\n",
      "Y_init shape: torch.Size([32, 1])\n",
      "Unnormalized params: tensor([[5.2466e+01, 4.2495e+00, 9.0052e+01, 2.2600e+02, 2.0133e-01, 8.0163e-03,\n",
      "         7.8239e-04, 7.9368e+00, 6.1804e-01]])\n",
      "new_y: tensor([[0.0511]])\n",
      "new_x shape: torch.Size([1, 9])\n",
      "new_y shape: torch.Size([1, 1])\n"
     ]
    },
    {
     "name": "stderr",
     "output_type": "stream",
     "text": [
      "c:\\Users\\domen\\anaconda3\\envs\\thesis\\lib\\site-packages\\botorch\\models\\gp_regression.py:161: UserWarning: The model inputs are of type torch.float32. It is strongly recommended to use double precision in BoTorch, as this improves both precision and stability and can help avoid numerical errors. See https://github.com/pytorch/botorch/discussions/1444\n",
      "  self._validate_tensor_args(X=transformed_X, Y=train_Y, Yvar=train_Yvar)\n",
      "c:\\Users\\domen\\anaconda3\\envs\\thesis\\lib\\site-packages\\botorch\\models\\utils\\assorted.py:202: InputDataWarning: Input data is not standardized (mean = tensor([0.2078]), std = tensor([0.3143])). Please consider scaling the input to zero mean and unit variance.\n",
      "  warnings.warn(msg, InputDataWarning)\n"
     ]
    },
    {
     "name": "stdout",
     "output_type": "stream",
     "text": [
      "Iteration 19/20: Best Loss = 0.0136\n",
      "X_init shape: torch.Size([33, 9])\n",
      "Y_init shape: torch.Size([33, 1])\n",
      "Unnormalized params: tensor([[8.0912e+01, 4.4534e+00, 1.3533e+02, 1.9360e+02, 1.4396e-01, 8.7382e-03,\n",
      "         8.2971e-04, 8.1825e+00, 8.9932e-01]])\n",
      "new_y: tensor([[0.1350]])\n",
      "new_x shape: torch.Size([1, 9])\n",
      "new_y shape: torch.Size([1, 1])\n"
     ]
    },
    {
     "name": "stderr",
     "output_type": "stream",
     "text": [
      "c:\\Users\\domen\\anaconda3\\envs\\thesis\\lib\\site-packages\\botorch\\models\\gp_regression.py:161: UserWarning: The model inputs are of type torch.float32. It is strongly recommended to use double precision in BoTorch, as this improves both precision and stability and can help avoid numerical errors. See https://github.com/pytorch/botorch/discussions/1444\n",
      "  self._validate_tensor_args(X=transformed_X, Y=train_Y, Yvar=train_Yvar)\n",
      "c:\\Users\\domen\\anaconda3\\envs\\thesis\\lib\\site-packages\\botorch\\models\\utils\\assorted.py:202: InputDataWarning: Input data is not standardized (mean = tensor([0.2057]), std = tensor([0.3098])). Please consider scaling the input to zero mean and unit variance.\n",
      "  warnings.warn(msg, InputDataWarning)\n"
     ]
    },
    {
     "name": "stdout",
     "output_type": "stream",
     "text": [
      "Iteration 20/20: Best Loss = 0.0136\n"
     ]
    }
   ],
   "source": [
    "# Run the optimization\n",
    "optimize_hyperparameters(iterations=20)\n"
   ]
  },
  {
   "cell_type": "code",
   "execution_count": 36,
   "metadata": {},
   "outputs": [
    {
     "name": "stdout",
     "output_type": "stream",
     "text": [
      "Best Hyperparameters: tensor([5.2081e+01, 4.9613e+00, 1.5446e+02, 1.5012e+02, 1.0732e-01, 5.6880e-03,\n",
      "        9.4823e-04, 2.8883e+00, 5.7396e-01])\n",
      "num_filters: 52.081077575683594\n",
      "kernel_size: 4.961319923400879\n",
      "lstm_units: 154.4553680419922\n",
      "gru_units: 150.1215057373047\n",
      "dropout_rate: 0.10731575638055801\n",
      "learning_rate: 0.005687965080142021\n",
      "weight_decay: 0.0009482332388870418\n",
      "patience: 2.8882510662078857\n",
      "factor: 0.5739561319351196\n"
     ]
    }
   ],
   "source": [
    "\n",
    "# Best hyperparameters\n",
    "best_x = X_init[torch.argmin(Y_init)]\n",
    "best_hyperparams = unnormalize(best_x, bounds)\n",
    "print(\"Best Hyperparameters:\", best_hyperparams)\n",
    "\n",
    "best_hyperparams_list = best_hyperparams.tolist()\n",
    "\n",
    "# Unpack values into individual variables\n",
    "num_filters, kernel_size, lstm_units, gru_units, dropout_rate, learning_rate, weight_decay, patience, factor = best_hyperparams_list\n",
    "\n",
    "# Print each variable\n",
    "print(f\"num_filters: {num_filters}\")\n",
    "print(f\"kernel_size: {kernel_size}\")\n",
    "print(f\"lstm_units: {lstm_units}\")\n",
    "print(f\"gru_units: {gru_units}\")\n",
    "print(f\"dropout_rate: {dropout_rate}\")\n",
    "print(f\"learning_rate: {learning_rate}\")\n",
    "print(f\"weight_decay: {weight_decay}\")\n",
    "print(f\"patience: {patience}\")\n",
    "print(f\"factor: {factor}\")"
   ]
  },
  {
   "cell_type": "code",
   "execution_count": 50,
   "metadata": {},
   "outputs": [],
   "source": [
    "# =========================\n",
    "# 4. Train the Model\n",
    "# =========================\n",
    "\n",
    "num_filters = 48\n",
    "kernel_size = 3\n",
    "lstm_units = 96\n",
    "gru_units = 164\n",
    "dropout_rate = 0.2\n",
    "learning_rate = 0.0005\n",
    "weight_decay_ = 0.0005\n",
    "patience_ = 2\n",
    "factor_ = 0.12402038276195526\n",
    "\n",
    "batch_size = 32\n",
    "\n",
    "num_epochs = 50\n",
    "\n",
    "# Initialize the model\n",
    "model = HybridModelLSTMGRUTCNN(num_filters, kernel_size, lstm_units, gru_units, dropout_rate)\n",
    "\n",
    "# Loss, optimizer, and scheduler\n",
    "criterion = nn.MSELoss()\n",
    "optimizer = optim.Adam(model.parameters(), lr=learning_rate, weight_decay=weight_decay_)\n",
    "scheduler = torch.optim.lr_scheduler.ReduceLROnPlateau(optimizer, mode='min', patience=patience_, factor=factor_)\n",
    "\n",
    "# DataLoader\n",
    "train_loader = torch.utils.data.DataLoader(\n",
    "    dataset=torch.utils.data.TensorDataset(X_train, y_train),\n",
    "    batch_size=batch_size,\n",
    "    shuffle=True,\n",
    ")\n",
    "\n",
    "train_losses = []\n",
    "val_losses = []\n",
    "\n"
   ]
  },
  {
   "cell_type": "code",
   "execution_count": 51,
   "metadata": {},
   "outputs": [
    {
     "name": "stdout",
     "output_type": "stream",
     "text": [
      "Epoch 1/50, Train Loss: 0.0781, Validation Loss: 0.1606\n",
      "Epoch 2/50, Train Loss: 0.0430, Validation Loss: 0.0467\n",
      "Epoch 3/50, Train Loss: 0.0312, Validation Loss: 0.0128\n",
      "Epoch 4/50, Train Loss: 0.0210, Validation Loss: 0.0120\n",
      "Epoch 5/50, Train Loss: 0.0141, Validation Loss: 0.0113\n",
      "Epoch 6/50, Train Loss: 0.0072, Validation Loss: 0.0136\n",
      "Epoch 7/50, Train Loss: 0.0049, Validation Loss: 0.0058\n",
      "Epoch 8/50, Train Loss: 0.0042, Validation Loss: 0.0086\n",
      "Epoch 9/50, Train Loss: 0.0034, Validation Loss: 0.0265\n",
      "Epoch 10/50, Train Loss: 0.0032, Validation Loss: 0.0062\n",
      "Epoch 11/50, Train Loss: 0.0030, Validation Loss: 0.0051\n",
      "Epoch 12/50, Train Loss: 0.0028, Validation Loss: 0.0083\n",
      "Epoch 13/50, Train Loss: 0.0030, Validation Loss: 0.0065\n",
      "Epoch 14/50, Train Loss: 0.0023, Validation Loss: 0.0047\n",
      "Epoch 15/50, Train Loss: 0.0025, Validation Loss: 0.0071\n",
      "Epoch 16/50, Train Loss: 0.0023, Validation Loss: 0.0104\n",
      "Epoch 17/50, Train Loss: 0.0024, Validation Loss: 0.0119\n",
      "Epoch 18/50, Train Loss: 0.0023, Validation Loss: 0.0077\n",
      "Epoch 19/50, Train Loss: 0.0019, Validation Loss: 0.0101\n",
      "Epoch 20/50, Train Loss: 0.0020, Validation Loss: 0.0083\n",
      "Epoch 21/50, Train Loss: 0.0022, Validation Loss: 0.0063\n",
      "Epoch 22/50, Train Loss: 0.0023, Validation Loss: 0.0062\n",
      "Epoch 23/50, Train Loss: 0.0021, Validation Loss: 0.0058\n",
      "Epoch 24/50, Train Loss: 0.0022, Validation Loss: 0.0067\n",
      "Epoch 25/50, Train Loss: 0.0022, Validation Loss: 0.0066\n",
      "Epoch 26/50, Train Loss: 0.0017, Validation Loss: 0.0063\n",
      "Epoch 27/50, Train Loss: 0.0021, Validation Loss: 0.0063\n",
      "Epoch 28/50, Train Loss: 0.0020, Validation Loss: 0.0055\n",
      "Epoch 29/50, Train Loss: 0.0019, Validation Loss: 0.0063\n",
      "Epoch 30/50, Train Loss: 0.0019, Validation Loss: 0.0066\n",
      "Epoch 31/50, Train Loss: 0.0021, Validation Loss: 0.0056\n",
      "Epoch 32/50, Train Loss: 0.0020, Validation Loss: 0.0070\n",
      "Epoch 33/50, Train Loss: 0.0021, Validation Loss: 0.0072\n",
      "Epoch 34/50, Train Loss: 0.0020, Validation Loss: 0.0072\n",
      "Epoch 35/50, Train Loss: 0.0026, Validation Loss: 0.0068\n",
      "Epoch 36/50, Train Loss: 0.0020, Validation Loss: 0.0067\n",
      "Epoch 37/50, Train Loss: 0.0023, Validation Loss: 0.0068\n",
      "Epoch 38/50, Train Loss: 0.0020, Validation Loss: 0.0067\n",
      "Epoch 39/50, Train Loss: 0.0018, Validation Loss: 0.0054\n",
      "Epoch 40/50, Train Loss: 0.0020, Validation Loss: 0.0060\n",
      "Epoch 41/50, Train Loss: 0.0021, Validation Loss: 0.0066\n",
      "Epoch 42/50, Train Loss: 0.0020, Validation Loss: 0.0069\n",
      "Epoch 43/50, Train Loss: 0.0023, Validation Loss: 0.0056\n",
      "Epoch 44/50, Train Loss: 0.0024, Validation Loss: 0.0080\n",
      "Epoch 45/50, Train Loss: 0.0022, Validation Loss: 0.0066\n",
      "Epoch 46/50, Train Loss: 0.0024, Validation Loss: 0.0057\n",
      "Epoch 47/50, Train Loss: 0.0020, Validation Loss: 0.0070\n",
      "Epoch 48/50, Train Loss: 0.0021, Validation Loss: 0.0066\n",
      "Epoch 49/50, Train Loss: 0.0021, Validation Loss: 0.0088\n",
      "Epoch 50/50, Train Loss: 0.0022, Validation Loss: 0.0059\n"
     ]
    }
   ],
   "source": [
    "for epoch in range(num_epochs):\n",
    "    model.train()\n",
    "    epoch_loss = 0\n",
    "    for batch_X, batch_y in train_loader:\n",
    "        batch_X = batch_X.permute(0, 2, 1)\n",
    "        batch_y = batch_y.unsqueeze(1)\n",
    "        optimizer.zero_grad()\n",
    "        outputs = model(batch_X)\n",
    "        loss = criterion(outputs, batch_y)\n",
    "        loss.backward()\n",
    "        optimizer.step()\n",
    "        epoch_loss += loss.item()\n",
    "    train_losses.append(epoch_loss / len(train_loader))\n",
    "\n",
    "    model.eval()\n",
    "    with torch.no_grad():\n",
    "        X_val_perm = X_val.permute(0, 2, 1)\n",
    "        y_val_pred = model(X_val_perm)\n",
    "        y_val_target = y_val.unsqueeze(1)\n",
    "        val_loss = criterion(y_val_pred, y_val_target).item()\n",
    "        val_losses.append(val_loss)\n",
    "\n",
    "    scheduler.step(epoch_loss / len(train_loader))\n",
    "    print(f\"Epoch {epoch + 1}/{num_epochs}, Train Loss: {train_losses[-1]:.4f}, Validation Loss: {val_losses[-1]:.4f}\")\n",
    "    \n",
    "\n"
   ]
  },
  {
   "cell_type": "code",
   "execution_count": 52,
   "metadata": {},
   "outputs": [
    {
     "data": {
      "image/png": "[encoded data removed]",
      "text/plain": [
       "<Figure size 1000x600 with 1 Axes>"
      ]
     },
     "metadata": {},
     "output_type": "display_data"
    }
   ],
   "source": [
    "# Plot Loss\n",
    "plt.figure(figsize=(10, 6))\n",
    "# Plot the results\n",
    "plt.plot(range(1, num_epochs + 1), train_losses, label=\"Train Loss\")\n",
    "# Plot the results\n",
    "plt.plot(range(1, num_epochs + 1), val_losses, label=\"Validation Loss\")\n",
    "plt.xlabel(\"Epochs\")\n",
    "plt.ylabel(\"Loss\")\n",
    "plt.title(\"Training and Validation Loss\")\n",
    "plt.legend()\n",
    "plt.show()"
   ]
  },
  {
   "cell_type": "code",
   "execution_count": 53,
   "metadata": {},
   "outputs": [
    {
     "name": "stdout",
     "output_type": "stream",
     "text": [
      "Entire model saved successfully!\n"
     ]
    }
   ],
   "source": [
    "# Save the entire model\n",
    "torch.save(model, \"hybrid_model2.pth\")\n",
    "print(\"Entire model saved successfully!\")\n"
   ]
  },
  {
   "cell_type": "code",
   "execution_count": 54,
   "metadata": {},
   "outputs": [
    {
     "name": "stdout",
     "output_type": "stream",
     "text": [
      "Loss data saved as CSV successfully!\n"
     ]
    }
   ],
   "source": [
    "loss_df = pd.DataFrame({\n",
    "    \"Epoch\": list(range(1, len(train_losses) + 1)),\n",
    "    \"Train Loss\": train_losses,\n",
    "    \"Validation Loss\": val_losses\n",
    "})\n",
    "\n",
    "# Save to CSV\n",
    "loss_df.to_csv(\"loss_data2.csv\", index=False)\n",
    "print(\"Loss data saved as CSV successfully!\")"
   ]
  },
  {
   "cell_type": "code",
   "execution_count": null,
   "metadata": {},
   "outputs": [],
   "source": [
    "# Load the entire model\n",
    "model = torch.load(\"hybrid_model.pth\")\n",
    "model.eval()\n",
    "print(\"Entire model loaded successfully!\")"
   ]
  },
  {
   "cell_type": "code",
   "execution_count": null,
   "metadata": {},
   "outputs": [],
   "source": [
    "# Load loss data from CSV\n",
    "# Load dataset using pandas\n",
    "loss_df = pd.read_csv(\"loss_data.csv\")\n",
    "\n",
    "train_losses = loss_df[\"Train Loss\"].tolist()\n",
    "val_losses = loss_df[\"Validation Loss\"].tolist()\n",
    "\n",
    "print(\"Loss data loaded from CSV successfully!\")\n"
   ]
  },
  {
   "cell_type": "code",
   "execution_count": 55,
   "metadata": {},
   "outputs": [],
   "source": [
    "model.eval()\n",
    "with torch.no_grad():\n",
    "    X_test_perm = X_test.permute(0, 2, 1)\n",
    "    y_test_pred = model(X_test_perm)\n",
    "    y_test_target = y_test.unsqueeze(1)"
   ]
  },
  {
   "cell_type": "code",
   "execution_count": 56,
   "metadata": {},
   "outputs": [],
   "source": [
    "actual_values = y_test_target.cpu().numpy()\n",
    "predictions = y_test_pred.cpu().numpy()"
   ]
  },
  {
   "cell_type": "code",
   "execution_count": 57,
   "metadata": {},
   "outputs": [
    {
     "name": "stdout",
     "output_type": "stream",
     "text": [
      "Mean Absolute Error (MAE): 0.0731\n",
      "Mean Squared Error (MSE): 0.0088\n",
      "R² Score: 0.8754\n"
     ]
    }
   ],
   "source": [
    "from sklearn.metrics import mean_absolute_error, mean_squared_error, r2_score\n",
    "\n",
    "mae = mean_absolute_error(actual_values, predictions)\n",
    "mse = mean_squared_error(actual_values, predictions)\n",
    "r2 = r2_score(actual_values, predictions)\n",
    "\n",
    "print(f\"Mean Absolute Error (MAE): {mae:.4f}\")\n",
    "print(f\"Mean Squared Error (MSE): {mse:.4f}\")\n",
    "print(f\"R² Score: {r2:.4f}\")\n"
   ]
  },
  {
   "cell_type": "code",
   "execution_count": 58,
   "metadata": {},
   "outputs": [
    {
     "data": {
      "image/png": "[encoded data removed]",
      "text/plain": [
       "<Figure size 800x600 with 1 Axes>"
      ]
     },
     "metadata": {},
     "output_type": "display_data"
    }
   ],
   "source": [
    "# Import necessary libraries\n",
    "import matplotlib.pyplot as plt\n",
    "\n",
    "# Scatter plot for predictions vs. actual values\n",
    "plt.figure(figsize=(8, 6))\n",
    "plt.scatter(actual_values, predictions, alpha=0.6)\n",
    "# Plot the results\n",
    "plt.plot([min(actual_values), max(actual_values)], [min(actual_values), max(actual_values)], color='red', linestyle='--')\n",
    "plt.xlabel('Actual Values')\n",
    "plt.ylabel('Predicted Values')\n",
    "plt.title('Predicted vs. Actual Values')\n",
    "plt.show()\n"
   ]
  },
  {
   "cell_type": "code",
   "execution_count": 59,
   "metadata": {},
   "outputs": [
    {
     "data": {
      "image/png": "[encoded data removed]",
      "text/plain": [
       "<Figure size 1200x600 with 1 Axes>"
      ]
     },
     "metadata": {},
     "output_type": "display_data"
    }
   ],
   "source": [
    "plt.figure(figsize=(12, 6))\n",
    "# Plot the results\n",
    "plt.plot(actual_values, label='Actual Values')\n",
    "# Plot the results\n",
    "plt.plot(predictions, label='Predicted Values')\n",
    "plt.xlabel('Time Steps')\n",
    "plt.ylabel('Values')\n",
    "plt.title('Actual vs. Predicted Values Over Time')\n",
    "plt.legend()\n",
    "plt.show()\n"
   ]
  }
 ],
 "metadata": {
  "kernelspec": {
   "display_name": "THESIS (3.9.13)",
   "language": "python",
   "name": "thesis"
  },
  "language_info": {
   "codemirror_mode": {
    "name": "ipython",
    "version": 3
   },
   "file_extension": ".py",
   "mimetype": "text/x-python",
   "name": "python",
   "nbconvert_exporter": "python",
   "pygments_lexer": "ipython3",
   "version": "3.9.13"
  }
 },
 "nbformat": 4,
 "nbformat_minor": 2
}
